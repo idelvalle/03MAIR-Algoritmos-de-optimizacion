{
  "nbformat": 4,
  "nbformat_minor": 0,
  "metadata": {
    "colab": {
      "name": "AG2-Ignacio_del_Valle.ipynb",
      "version": "0.3.2",
      "provenance": [],
      "include_colab_link": true
    },
    "kernelspec": {
      "name": "python3",
      "display_name": "Python 3"
    }
  },
  "cells": [
    {
      "cell_type": "markdown",
      "metadata": {
        "id": "view-in-github",
        "colab_type": "text"
      },
      "source": [
        "<a href=\"https://colab.research.google.com/github/idelvalle/03MAIR-Algoritmos-de-optimizacion/blob/master/AG2/AG2_Ignacio_del_Valle.ipynb\" target=\"_parent\"><img src=\"https://colab.research.google.com/assets/colab-badge.svg\" alt=\"Open In Colab\"/></a>"
      ]
    },
    {
      "metadata": {
        "id": "ZEuk9boMHxxf",
        "colab_type": "text"
      },
      "cell_type": "markdown",
      "source": [
        "Ignacio del Valle Torres-AG2 <br>\n",
        "Actividad Guiada 2<br>\n",
        "Url: https://github.com/idelvalle/03MAIR-Algoritmos-de-optimizacion/tree/master/AG2"
      ]
    },
    {
      "metadata": {
        "id": "mJ7WiaOOQmdx",
        "colab_type": "code",
        "colab": {}
      },
      "cell_type": "code",
      "source": [
        "from time import time\n",
        "#Función para calcular el tiempo de ejecución\n",
        "def calcular_tiempo(f):\n",
        "   \n",
        "    def wrapper(*args, **kwargs):       \n",
        "        inicio = time()       \n",
        "        resultado = f(*args, **kwargs)       \n",
        "        tiempo = time() - inicio\n",
        "        print(\"Tiempo de ejecución para algoritmo: \"+str(tiempo))\n",
        "        return resultado\n",
        "    \n",
        "    return wrapper"
      ],
      "execution_count": 0,
      "outputs": []
    },
    {
      "metadata": {
        "id": "4SwSgEs9KEtw",
        "colab_type": "code",
        "outputId": "ed910a23-d20b-4d23-d40d-6e58f2e8a408",
        "colab": {
          "base_uri": "https://localhost:8080/",
          "height": 55
        }
      },
      "cell_type": "code",
      "source": [
        "import math\n",
        "import random\n",
        "\n",
        "N=100\n",
        "\n",
        "LISTA_2D = [(random.randrange(1,N*10), random.randrange(1,N*10))for _ in range(N)]\n",
        "\n",
        "print(LISTA_2D)"
      ],
      "execution_count": 0,
      "outputs": [
        {
          "output_type": "stream",
          "text": [
            "[(534, 833), (644, 440), (852, 405), (938, 269), (688, 839), (594, 144), (733, 969), (960, 212), (478, 305), (686, 419), (562, 293), (508, 353), (125, 772), (985, 48), (948, 424), (481, 168), (353, 738), (121, 11), (76, 716), (841, 322), (861, 104), (842, 449), (459, 453), (185, 931), (439, 101), (101, 999), (26, 443), (798, 647), (820, 701), (502, 573), (131, 878), (812, 928), (989, 490), (93, 113), (181, 551), (581, 175), (171, 331), (16, 196), (837, 255), (801, 651), (803, 475), (256, 236), (333, 252), (838, 157), (927, 263), (907, 310), (8, 212), (557, 714), (415, 854), (490, 912), (648, 878), (127, 108), (965, 23), (326, 814), (881, 957), (221, 32), (399, 307), (207, 443), (55, 440), (300, 954), (410, 319), (828, 753), (432, 539), (953, 333), (10, 510), (597, 993), (145, 599), (351, 14), (35, 720), (237, 509), (153, 771), (690, 455), (33, 215), (563, 39), (962, 781), (374, 74), (407, 703), (741, 969), (704, 566), (170, 361), (252, 284), (276, 564), (470, 810), (557, 530), (285, 734), (139, 570), (117, 580), (886, 685), (904, 948), (836, 116), (958, 56), (372, 573), (766, 93), (442, 598), (564, 344), (678, 193), (818, 872), (393, 674), (24, 217), (836, 933)]\n"
          ],
          "name": "stdout"
        }
      ]
    },
    {
      "metadata": {
        "id": "2H7j9_xFIeg7",
        "colab_type": "code",
        "outputId": "0a6349c4-99e0-4b26-e9a3-68272bd7f98e",
        "colab": {
          "base_uri": "https://localhost:8080/",
          "height": 53
        }
      },
      "cell_type": "code",
      "source": [
        "\n",
        "def distancia(A,B):\n",
        "  if type(A) is int or type(A) is float:\n",
        "    return abs(B-A)\n",
        "  else:\n",
        "    return math.sqrt(sum([   (A[i]-B[i])**2 for i in range(len(A))   ]))\n",
        "\n",
        "@calcular_tiempo\n",
        "def LANZA(L,K):\n",
        "  return distancia(L,K)\n",
        "\n",
        "SOL = LANZA((1,3),(2,5))\n",
        "\n",
        "print(SOL)"
      ],
      "execution_count": 0,
      "outputs": [
        {
          "output_type": "stream",
          "text": [
            "Tiempo de ejecución para algoritmo: 1.049041748046875e-05\n",
            "2.23606797749979\n"
          ],
          "name": "stdout"
        }
      ]
    },
    {
      "metadata": {
        "id": "MYKTC0sjKUhD",
        "colab_type": "code",
        "outputId": "24817ffe-e27e-43ff-9c42-b16d69a33beb",
        "colab": {
          "base_uri": "https://localhost:8080/",
          "height": 53
        }
      },
      "cell_type": "code",
      "source": [
        "#Fuerza Bruta\n",
        "@calcular_tiempo\n",
        "def distancia_fuerza_bruta(L):\n",
        "  mejor_distancia = 100000e10\n",
        "  \n",
        "  A,B =(),()\n",
        "  \n",
        "  for i in range(len(L)):\n",
        "    for j in range(i+1,len(L)):\n",
        "      if distancia (L[i], L[j]) < mejor_distancia:\n",
        "        A,B=L[i],L[j]\n",
        "        mejor_distancia = distancia(L[i], L[j])\n",
        "  return [A,B]\n",
        "\n",
        "distancia_fuerza_bruta(LISTA_2D)"
      ],
      "execution_count": 0,
      "outputs": [
        {
          "output_type": "stream",
          "text": [
            "Tiempo de ejecución para algoritmo: 0.010796308517456055\n"
          ],
          "name": "stdout"
        },
        {
          "output_type": "execute_result",
          "data": {
            "text/plain": [
              "[(798, 647), (801, 651)]"
            ]
          },
          "metadata": {
            "tags": []
          },
          "execution_count": 14
        }
      ]
    },
    {
      "metadata": {
        "id": "dcX9YyzWPrcp",
        "colab_type": "code",
        "outputId": "b65cd370-ef07-48da-9a0f-216f88ad2dce",
        "colab": {
          "base_uri": "https://localhost:8080/",
          "height": 53
        }
      },
      "cell_type": "code",
      "source": [
        "def distancia_divide_y_venceras(L):\n",
        "  #Si hay pocos usa fuerza bruta\n",
        "  if len(L) <10:\n",
        "    return distancia_fuerza_bruta(L)\n",
        "  \n",
        "  #Dividir en listas grandes\n",
        "  #pivote = sum([L[i][0]for i in range(len(L))]) / len(L)\n",
        "  \n",
        "  #Funcion sorted para ordenar objetos (ordena lista en base a primera coordenada)\n",
        "  LISTA_IZQ = sorted(L, key=lambda x:x[0])[:len(L)//2]\n",
        "  LISTA_DER = sorted(L, key=lambda x:x[0])[len(L)//2:]\n",
        "  \n",
        "  PUNTOS_LISTA_IZQ = distancia_divide_y_venceras(LISTA_IZQ)\n",
        "  PUNTOS_LISTA_DER = distancia_divide_y_venceras(LISTA_DER)\n",
        "\n",
        "  return distancia_fuerza_bruta(PUNTOS_LISTA_IZQ + PUNTOS_LISTA_DER)\n",
        "\n",
        "@calcular_tiempo\n",
        "def LANZA(L):\n",
        "  return distancia_divide_y_venceras(L)\n",
        "\n",
        "SOL = LANZA(LISTA_2D[:100])\n",
        "\n",
        "print(SOL)"
      ],
      "execution_count": 0,
      "outputs": [
        {
          "output_type": "stream",
          "text": [
            "Tiempo de ejecución para algoritmo: 0.0014498233795166016\n",
            "[(305, 450), (310, 459)]\n"
          ],
          "name": "stdout"
        }
      ]
    },
    {
      "metadata": {
        "id": "JAmw-n4BWMLa",
        "colab_type": "code",
        "outputId": "6220d478-565a-4c32-8e85-97af1fa9f202",
        "colab": {
          "base_uri": "https://localhost:8080/",
          "height": 145
        }
      },
      "cell_type": "code",
      "source": [
        "#VIAJE POR EL RIO\n",
        "\n",
        "TARIFAS = [\n",
        "[0,5,4,3,999,999,999],\n",
        "[999,0,999,2,3,999,11],\n",
        "[999,999, 0,1,999,4,10],\n",
        "[999,999,999, 0,5,6,9],\n",
        "[999,999, 999,999,0,999,4],\n",
        "[999,999, 999,999,999,0,3],\n",
        "[999,999,999,999,999,999,0]\n",
        "]\n",
        "\n",
        "def precios(TARIFAS):\n",
        "  N = len(TARIFAS[0])\n",
        "  \n",
        "  PRECIOS = [[9999]*N for i in [9999]*N] #Inicializamos valores muy altos para comparar precios luego\n",
        "  RUTAS = [[\"\"]*N for i in [9999]*N]\n",
        "  \n",
        "  #print(PRECIOS)\n",
        "  #print(RUTAS)\n",
        "  \n",
        "  for i in range(N-1):\n",
        "    for j in range(i+1,N):\n",
        "      MIN = TARIFAS[i][j]\n",
        "      RUTAS[i][j] = i\n",
        "      \n",
        "      for k in range(i,j):\n",
        "        if PRECIOS[i][k] + TARIFAS[k][j] < MIN:\n",
        "          MIN = min(MIN, PRECIOS[i][k] + TARIFAS[k][j])\n",
        "          RUTAS[i][j] = k\n",
        "      PRECIOS[i][j] = MIN\n",
        "      \n",
        "    return PRECIOS, RUTAS\n",
        "      \n",
        "PRECIOS, RUTAS = precios(TARIFAS)\n",
        "\n",
        "print(PRECIOS)\n",
        "\n",
        "print()\n",
        "\n",
        "print(RUTAS)\n",
        "\n",
        "def calcular_ruta(RUTAS, desde, hasta):\n",
        "  if desde == hasta:\n",
        "    #print(\"Ir a :\" + str(desde))\n",
        "    return desde \n",
        "  else:\n",
        "    return str(calcular_ruta(RUTAS, desde, RUTAS[desde][hasta])) +  ',' + str(RUTAS[desde][hasta]) \n",
        "\n",
        "print(\"\\nLa ruta es:\")  \n",
        "calcular_ruta(RUTAS, 0,6)"
      ],
      "execution_count": 0,
      "outputs": [
        {
          "output_type": "stream",
          "text": [
            "[[9999, 5, 4, 3, 8, 8, 11], [9999, 9999, 9999, 9999, 9999, 9999, 9999], [9999, 9999, 9999, 9999, 9999, 9999, 9999], [9999, 9999, 9999, 9999, 9999, 9999, 9999], [9999, 9999, 9999, 9999, 9999, 9999, 9999], [9999, 9999, 9999, 9999, 9999, 9999, 9999], [9999, 9999, 9999, 9999, 9999, 9999, 9999]]\n",
            "\n",
            "[['', 0, 0, 0, 1, 2, 5], ['', '', '', '', '', '', ''], ['', '', '', '', '', '', ''], ['', '', '', '', '', '', ''], ['', '', '', '', '', '', ''], ['', '', '', '', '', '', ''], ['', '', '', '', '', '', '']]\n",
            "\n",
            "La ruta es:\n"
          ],
          "name": "stdout"
        },
        {
          "output_type": "execute_result",
          "data": {
            "text/plain": [
              "'0,0,2,5'"
            ]
          },
          "metadata": {
            "tags": []
          },
          "execution_count": 1
        }
      ]
    },
    {
      "metadata": {
        "id": "vqhcLi8HWU_c",
        "colab_type": "code",
        "colab": {}
      },
      "cell_type": "code",
      "source": [
        ""
      ],
      "execution_count": 0,
      "outputs": []
    }
  ]
}