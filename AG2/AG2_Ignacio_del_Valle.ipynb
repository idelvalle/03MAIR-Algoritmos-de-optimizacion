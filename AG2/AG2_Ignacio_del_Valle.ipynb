{
  "nbformat": 4,
  "nbformat_minor": 0,
  "metadata": {
    "colab": {
      "name": "AG2-Ignacio_del_Valle.ipynb",
      "version": "0.3.2",
      "provenance": [],
      "include_colab_link": true
    },
    "kernelspec": {
      "name": "python3",
      "display_name": "Python 3"
    }
  },
  "cells": [
    {
      "cell_type": "markdown",
      "metadata": {
        "id": "view-in-github",
        "colab_type": "text"
      },
      "source": [
        "<a href=\"https://colab.research.google.com/github/idelvalle/03MAIR-Algoritmos-de-optimizacion/blob/master/AG2/AG2_Ignacio_del_Valle.ipynb\" target=\"_parent\"><img src=\"https://colab.research.google.com/assets/colab-badge.svg\" alt=\"Open In Colab\"/></a>"
      ]
    },
    {
      "metadata": {
        "id": "ntau58LNHkAE",
        "colab_type": "code",
        "colab": {}
      },
      "cell_type": "code",
      "source": [
        ""
      ],
      "execution_count": 0,
      "outputs": []
    },
    {
      "metadata": {
        "id": "ZEuk9boMHxxf",
        "colab_type": "text"
      },
      "cell_type": "markdown",
      "source": [
        "Ignacio del Valle Torres-AG2 <br>\n",
        "Actividad Guiada 2<br>\n",
        "Url: https://github.com/idelvalle/03MAIR-Algoritmos-de-optimizacion/tree/master/AG2"
      ]
    },
    {
      "metadata": {
        "id": "mJ7WiaOOQmdx",
        "colab_type": "code",
        "colab": {}
      },
      "cell_type": "code",
      "source": [
        "from time import time\n",
        "#Función para calcular el tiempo de ejecución\n",
        "def calcular_tiempo(f):\n",
        "   \n",
        "    def wrapper(*args, **kwargs):       \n",
        "        inicio = time()       \n",
        "        resultado = f(*args, **kwargs)       \n",
        "        tiempo = time() - inicio\n",
        "        print(\"Tiempo de ejecución para algoritmo: \"+str(tiempo))\n",
        "        return resultado\n",
        "    \n",
        "    return wrapper"
      ],
      "execution_count": 0,
      "outputs": []
    },
    {
      "metadata": {
        "id": "4SwSgEs9KEtw",
        "colab_type": "code",
        "outputId": "607f654d-b9c6-4d25-a377-c75af506aeab",
        "colab": {
          "base_uri": "https://localhost:8080/",
          "height": 55
        }
      },
      "cell_type": "code",
      "source": [
        "import math\n",
        "import random\n",
        "\n",
        "N=100\n",
        "\n",
        "LISTA_2D = [(random.randrange(1,N*10), random.randrange(1,N*10))for _ in range(N)]\n",
        "\n",
        "print(LISTA_2D)"
      ],
      "execution_count": 0,
      "outputs": [
        {
          "output_type": "stream",
          "text": [
            "[(664, 560), (138, 105), (98, 678), (907, 937), (802, 911), (950, 894), (165, 533), (511, 452), (206, 587), (987, 666), (982, 856), (203, 481), (493, 535), (327, 763), (5, 803), (701, 669), (338, 331), (695, 408), (12, 478), (412, 126), (461, 857), (104, 903), (718, 106), (211, 222), (640, 495), (756, 619), (768, 257), (957, 377), (207, 564), (371, 554), (434, 878), (10, 8), (159, 798), (906, 605), (123, 74), (835, 685), (841, 544), (604, 509), (823, 384), (885, 788), (316, 815), (779, 633), (305, 450), (909, 686), (310, 459), (57, 607), (884, 235), (67, 125), (71, 47), (583, 721), (269, 354), (677, 549), (264, 640), (315, 761), (695, 151), (495, 740), (162, 76), (180, 87), (334, 457), (561, 267), (698, 380), (125, 191), (89, 780), (72, 204), (323, 492), (773, 442), (632, 103), (154, 195), (932, 45), (569, 987), (454, 456), (786, 405), (41, 176), (626, 631), (411, 691), (922, 920), (661, 113), (955, 685), (509, 574), (629, 831), (58, 929), (936, 663), (693, 355), (771, 355), (584, 402), (636, 809), (200, 922), (667, 412), (23, 291), (754, 922), (823, 19), (172, 319), (179, 361), (541, 338), (467, 866), (449, 305), (145, 600), (550, 507), (607, 337), (887, 469)]\n"
          ],
          "name": "stdout"
        }
      ]
    },
    {
      "metadata": {
        "id": "2H7j9_xFIeg7",
        "colab_type": "code",
        "colab": {}
      },
      "cell_type": "code",
      "source": [
        "\n",
        "\n",
        "def distancia(A,B):\n",
        "  if type(A) is int or type(A) is float:\n",
        "    return abs(B-A)\n",
        "  else:\n",
        "    return math.sqrt(sum([   (A[i]-B[i])**2 for i in range(len(A))   ]))\n",
        "\n"
      ],
      "execution_count": 0,
      "outputs": []
    },
    {
      "metadata": {
        "id": "QhVs3_6MLmeP",
        "colab_type": "code",
        "outputId": "fc4780ad-daae-4ecd-f4d1-d9289debba95",
        "colab": {
          "base_uri": "https://localhost:8080/",
          "height": 35
        }
      },
      "cell_type": "code",
      "source": [
        " distancia((1,3),(2,5))"
      ],
      "execution_count": 0,
      "outputs": [
        {
          "output_type": "execute_result",
          "data": {
            "text/plain": [
              "2.23606797749979"
            ]
          },
          "metadata": {
            "tags": []
          },
          "execution_count": 11
        }
      ]
    },
    {
      "metadata": {
        "id": "MYKTC0sjKUhD",
        "colab_type": "code",
        "colab": {}
      },
      "cell_type": "code",
      "source": [
        "#Fuerza Bruta\n",
        "#@calcular_tiempo\n",
        "def distancia_fuerza_bruta(L):\n",
        "  mejor_distancia = 100000e10\n",
        "  \n",
        "  A,B =(),()\n",
        "  \n",
        "  for i in range(len(L)):\n",
        "    for j in range(i+1,len(L)):\n",
        "      if distancia (L[i], L[j]) < mejor_distancia:\n",
        "        A,B=L[i],L[j]\n",
        "        mejor_distancia = distancia(L[i], L[j])\n",
        "  return [A,B]"
      ],
      "execution_count": 0,
      "outputs": []
    },
    {
      "metadata": {
        "id": "c5TOYguxNRUA",
        "colab_type": "code",
        "outputId": "f3a820de-2fde-48fe-8600-68594788513c",
        "colab": {
          "base_uri": "https://localhost:8080/",
          "height": 53
        }
      },
      "cell_type": "code",
      "source": [
        "distancia_fuerza_bruta(LISTA_2D)"
      ],
      "execution_count": 25,
      "outputs": [
        {
          "output_type": "stream",
          "text": [
            "Tiempo de ejecución para algoritmo: 0.013516902923583984\n"
          ],
          "name": "stdout"
        },
        {
          "output_type": "execute_result",
          "data": {
            "text/plain": [
              "[(305, 450), (310, 459)]"
            ]
          },
          "metadata": {
            "tags": []
          },
          "execution_count": 25
        }
      ]
    },
    {
      "metadata": {
        "id": "dcX9YyzWPrcp",
        "colab_type": "code",
        "colab": {
          "base_uri": "https://localhost:8080/",
          "height": 53
        },
        "outputId": "b65cd370-ef07-48da-9a0f-216f88ad2dce"
      },
      "cell_type": "code",
      "source": [
        "def distancia_divide_y_venceras(L):\n",
        "  #Si hay pocos usa fuerza bruta\n",
        "  if len(L) <10:\n",
        "    return distancia_fuerza_bruta(L)\n",
        "  \n",
        "  #Dividir en listas grandes\n",
        "  #pivote = sum([L[i][0]for i in range(len(L))]) / len(L)\n",
        "  \n",
        "  #Funcion sorted para ordenar objetos (ordena lista en base a primera coordenada)\n",
        "  LISTA_IZQ = sorted(L, key=lambda x:x[0])[:len(L)//2]\n",
        "  LISTA_DER = sorted(L, key=lambda x:x[0])[len(L)//2:]\n",
        "  \n",
        "  PUNTOS_LISTA_IZQ = distancia_divide_y_venceras(LISTA_IZQ)\n",
        "  PUNTOS_LISTA_DER = distancia_divide_y_venceras(LISTA_DER)\n",
        "\n",
        "  return distancia_fuerza_bruta(PUNTOS_LISTA_IZQ + PUNTOS_LISTA_DER)\n",
        "\n",
        "@calcular_tiempo\n",
        "def LANZA(L):\n",
        "  return distancia_divide_y_venceras(L)\n",
        "\n",
        "SOL = LANZA(LISTA_2D[:100])\n",
        "\n",
        "print(SOL)"
      ],
      "execution_count": 37,
      "outputs": [
        {
          "output_type": "stream",
          "text": [
            "Tiempo de ejecución para algoritmo: 0.0014498233795166016\n",
            "[(305, 450), (310, 459)]\n"
          ],
          "name": "stdout"
        }
      ]
    },
    {
      "metadata": {
        "id": "JAmw-n4BWMLa",
        "colab_type": "code",
        "colab": {
          "base_uri": "https://localhost:8080/",
          "height": 91
        },
        "outputId": "847ac113-4151-4f2a-9368-73444fc518f2"
      },
      "cell_type": "code",
      "source": [
        "#VIAJE POR EL RIO\n",
        "\n",
        "TARIFAS = [\n",
        "[0,5,4,3,999,999,999],\n",
        "[999,0,999,2,3,999,11],\n",
        "[999,999, 0,1,999,4,10],\n",
        "[999,999,999, 0,5,6,9],\n",
        "[999,999, 999,999,0,999,4],\n",
        "[999,999, 999,999,999,0,3],\n",
        "[999,999,999,999,999,999,0]\n",
        "]\n",
        "\n",
        "def precios(TARIFAS):\n",
        "  N = len(TARIFAS[0])\n",
        "  \n",
        "  PRECIOS = [[9999]*N for i in [9999]*N] #Inicializamos valores muy altos para comparar precios luego\n",
        "  RUTAS = [[\"\"]*N for i in [9999]*N]\n",
        "  \n",
        "  #print(PRECIOS)\n",
        "  #print(RUTAS)\n",
        "  \n",
        "  for i in range(N-1):\n",
        "    for j in range(i+1,N):\n",
        "      MIN = TARIFAS[i][j]\n",
        "      RUTAS[i][j] = i\n",
        "      \n",
        "      for k in range(i,j):\n",
        "        if PRECIOS[i][k] + TARIFAS[k][j] < MIN:\n",
        "          MIN = min(MIN, PRECIOS[i][k] + TARIFAS[k][j])\n",
        "          RUTAS[i][j] = k\n",
        "      PRECIOS[i][j] = MIN\n",
        "      \n",
        "    return PRECIOS, RUTAS\n",
        "      \n",
        "PRECIOS, RUTAS = precios(TARIFAS)\n",
        "\n",
        "print(PRECIOS)\n",
        "\n",
        "print()\n",
        "\n",
        "print(RUTAS)"
      ],
      "execution_count": 47,
      "outputs": [
        {
          "output_type": "stream",
          "text": [
            "[[9999, 5, 4, 3, 8, 8, 11], [9999, 9999, 9999, 9999, 9999, 9999, 9999], [9999, 9999, 9999, 9999, 9999, 9999, 9999], [9999, 9999, 9999, 9999, 9999, 9999, 9999], [9999, 9999, 9999, 9999, 9999, 9999, 9999], [9999, 9999, 9999, 9999, 9999, 9999, 9999], [9999, 9999, 9999, 9999, 9999, 9999, 9999]]\n",
            "\n",
            "[['', 0, 0, 0, 1, 2, 5], ['', '', '', '', '', '', ''], ['', '', '', '', '', '', ''], ['', '', '', '', '', '', ''], ['', '', '', '', '', '', ''], ['', '', '', '', '', '', ''], ['', '', '', '', '', '', '']]\n"
          ],
          "name": "stdout"
        }
      ]
    },
    {
      "metadata": {
        "id": "vqhcLi8HWU_c",
        "colab_type": "code",
        "colab": {}
      },
      "cell_type": "code",
      "source": [
        ""
      ],
      "execution_count": 0,
      "outputs": []
    }
  ]
}