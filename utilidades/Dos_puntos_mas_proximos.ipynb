{
 "cells": [
  {
   "cell_type": "code",
   "execution_count": 96,
   "metadata": {},
   "outputs": [],
   "source": [
    "import random\n",
    "import math\n",
    "    \n",
    "lst1 = [random.randint(-10**9, 10**9) for i in range(10000)]\n",
    "\n",
    "lst2 = [random.randint(-10**9, 10**9) for i in range(10000)]"
   ]
  },
  {
   "cell_type": "code",
   "execution_count": 99,
   "metadata": {},
   "outputs": [],
   "source": [
    "def dospuntos_1D_fc(lista):\n",
    "\n",
    "    lista.sort()  \n",
    "\n",
    "    dif = abs(lista[0] - lista[1])\n",
    "    \n",
    "    par = (lista[0], lista[1])\n",
    "    \n",
    "    for i in range(0, len(lista) - 1):\n",
    "        \n",
    "        if dif > abs(lista[i] - lista[i + 1]):\n",
    "            \n",
    "            dif = abs(lista[i] - lista[i + 1])\n",
    "            \n",
    "            par = (lista[i], lista[i+1])\n",
    "            \n",
    "    return par, dif"
   ]
  },
  {
   "cell_type": "code",
   "execution_count": 98,
   "metadata": {},
   "outputs": [],
   "source": [
    "def dospuntos_2D_fc(lista1, lista2):\n",
    "    \n",
    "    lista = list(zip(lista1,lista2))\n",
    "    dif = 10000000000\n",
    "    \n",
    "    for i in range(0, len(lista) - 1):\n",
    "        for j in range(i):\n",
    "            d = math.sqrt((lista[i][0] - lista[j][0])**2 + (lista[i][1] - lista[j][1])**2)\n",
    "            if d < dif:\n",
    "                dif = d\n",
    "                par = [(lista[i][0], lista[i][1]), (lista[j][0], lista[j][1])]\n",
    "            \n",
    "    return par, dif\n"
   ]
  }
 ],
 "metadata": {
  "kernelspec": {
   "display_name": "Python 3",
   "language": "python",
   "name": "python3"
  },
  "language_info": {
   "codemirror_mode": {
    "name": "ipython",
    "version": 3
   },
   "file_extension": ".py",
   "mimetype": "text/x-python",
   "name": "python",
   "nbconvert_exporter": "python",
   "pygments_lexer": "ipython3",
   "version": "3.6.7"
  }
 },
 "nbformat": 4,
 "nbformat_minor": 2
}
