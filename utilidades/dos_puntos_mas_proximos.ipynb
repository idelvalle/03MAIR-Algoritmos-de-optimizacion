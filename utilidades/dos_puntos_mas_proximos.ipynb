{
 "cells": [
  {
   "cell_type": "code",
   "execution_count": 20,
   "metadata": {},
   "outputs": [],
   "source": [
    "import random\n",
    "import math\n",
    "    \n",
    "lst1 = [random.randrange(1, 10000) for x in range(1000)]\n",
    "\n",
    "lst2 = [(random.randrange(1, 10000),random.randrange(1, 10000)) for x in range(1000)]"
   ]
  },
  {
   "cell_type": "code",
   "execution_count": 21,
   "metadata": {},
   "outputs": [],
   "source": [
    "# FUERZA BRUTA 1D\n",
    "\n",
    "def dospuntos_1D_fc(lista):\n",
    "\n",
    "    lista.sort()  \n",
    "\n",
    "    dif = abs(lista[0] - lista[1])\n",
    "    \n",
    "    par = (lista[0], lista[1])\n",
    "    \n",
    "    for i in range(0, len(lista) - 1):\n",
    "        \n",
    "        if dif > abs(lista[i] - lista[i + 1]):\n",
    "            \n",
    "            dif = abs(lista[i] - lista[i + 1])\n",
    "            \n",
    "            par = (lista[i], lista[i+1])\n",
    "            \n",
    "    return par, dif # genera par y distancia entre ambos"
   ]
  },
  {
   "cell_type": "code",
   "execution_count": 22,
   "metadata": {},
   "outputs": [
    {
     "data": {
      "text/plain": [
       "((11, 11), 0)"
      ]
     },
     "execution_count": 22,
     "metadata": {},
     "output_type": "execute_result"
    }
   ],
   "source": [
    "dospuntos_1D_fc(lst1)"
   ]
  },
  {
   "cell_type": "code",
   "execution_count": 23,
   "metadata": {},
   "outputs": [],
   "source": [
    "# FUERZA BRUTA 2D\n",
    "\n",
    "def dospuntos_2D_fc(lista):\n",
    "    \n",
    "    dif = 10000000000 #elijo distancia inicial muy grande\n",
    "    \n",
    "    for i in range(0, len(lista) - 1):\n",
    "        for j in range(i):\n",
    "            d = math.sqrt((lista[i][0] - lista[j][0])**2 + (lista[i][1] - lista[j][1])**2) #calculo euclidea\n",
    "            if d < dif:\n",
    "                dif = d\n",
    "                par = [(lista[i][0], lista[i][1]), (lista[j][0], lista[j][1])]\n",
    "            \n",
    "    return par, dif # genera par y distancia entre ambos\n"
   ]
  },
  {
   "cell_type": "code",
   "execution_count": 24,
   "metadata": {},
   "outputs": [
    {
     "data": {
      "text/plain": [
       "([(9384, 5958), (9388, 5964)], 7.211102550927978)"
      ]
     },
     "execution_count": 24,
     "metadata": {},
     "output_type": "execute_result"
    }
   ],
   "source": [
    "dospuntos_2D_fc(lst2)"
   ]
  }
 ],
 "metadata": {
  "kernelspec": {
   "display_name": "Python 3",
   "language": "python",
   "name": "python3"
  },
  "language_info": {
   "codemirror_mode": {
    "name": "ipython",
    "version": 3
   },
   "file_extension": ".py",
   "mimetype": "text/x-python",
   "name": "python",
   "nbconvert_exporter": "python",
   "pygments_lexer": "ipython3",
   "version": "3.6.7"
  }
 },
 "nbformat": 4,
 "nbformat_minor": 2
}
