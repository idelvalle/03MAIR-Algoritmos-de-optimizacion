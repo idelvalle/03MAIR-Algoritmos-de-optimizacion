{
  "nbformat": 4,
  "nbformat_minor": 0,
  "metadata": {
    "colab": {
      "name": "Seminario-Ignacio del Valle Torres.ipynb",
      "version": "0.3.2",
      "provenance": [],
      "collapsed_sections": [],
      "include_colab_link": true
    },
    "kernelspec": {
      "name": "python3",
      "display_name": "Python 3"
    }
  },
  "cells": [
    {
      "cell_type": "markdown",
      "metadata": {
        "id": "view-in-github",
        "colab_type": "text"
      },
      "source": [
        "<a href=\"https://colab.research.google.com/github/idelvalle/03MAIR-Algoritmos-de-optimizacion/blob/master/SEMINARIO/Seminario_Ignacio_del_Valle_Torres.ipynb\" target=\"_parent\"><img src=\"https://colab.research.google.com/assets/colab-badge.svg\" alt=\"Open In Colab\"/></a>"
      ]
    },
    {
      "metadata": {
        "id": "hVbXYX-RfPWh",
        "colab_type": "text"
      },
      "cell_type": "markdown",
      "source": [
        "# Algoritmos de optimización - Seminario<br>\n",
        "Nombre y Apellidos:  Ignacio del Valle Torres <br>\n",
        "Url: https://github.com/idelvalle/03MAIR-Algoritmos-de-optimizacion/tree/master/SEMINARIO<br>\n",
        "\n",
        "Problema:\n",
        "\n",
        "1. **Elección de grupos de población homogéneos**\n",
        "\n",
        "Descripción del problema: \n",
        "\n",
        "* Una productora ganadera nos encarga la tarea de seleccionar grupos de terneros para aplicar 3 tratamientos diferentes.\n",
        "\n",
        "* Para cada uno de los tratamientos debemos seleccionar 3 grupos de terneros que sean lo mas homogéneos posible en peso para que en los resultados del tratamiento influya lo menos posible el peso del animal.\n",
        "\n",
        "* Disponemos de una población de N animales entre machos y hembras.\n",
        "\n",
        "* Hemos podido averiguar que el peso medio del ternero es 37kg con una desviación estándar de 2.1.\n",
        "\n",
        "Se solicita diseñar un algoritmo para conseguir una agrupación que cumpla de la mejor manera posible las especificaciones de la productora.\n",
        "\n",
        "(*) La respuesta es obligatoria\n",
        "\n",
        "\n",
        "\n",
        "\n",
        "\n",
        "                                        "
      ]
    },
    {
      "metadata": {
        "id": "3_-exlrTgLd-",
        "colab_type": "text"
      },
      "cell_type": "markdown",
      "source": [
        "(*)¿Cuantas posibilidades hay sin tener en cuenta las restricciones?<br>\n",
        "\n",
        "\n",
        "\n",
        "¿Cuantas posibilidades hay teniendo en cuenta todas las restricciones.\n",
        "\n",
        "\n"
      ]
    },
    {
      "metadata": {
        "id": "WfCUqJyKhPcw",
        "colab_type": "text"
      },
      "cell_type": "markdown",
      "source": [
        "**Respuesta**:<br>\n",
        "\n",
        "El cálculo del número total de soluciones lo realizo de la siguiente manera: si tenemos en total N terneros y que remos realizar tres tratamientos con tres grupos en cada uno tendremos un total de 9 grupos totales posibles a ordenar.\n",
        "\n",
        "El **número de soluciones totales sin restricciones** sería el número de variaciones sin repetición, V (cada ternero solo puede ir a un grupo) de N elementos en 9 grupos. Es decir: las ordenaciones sin repetición de los N elementos del conjunto tomadas de n en n (en este caso n es igual a 9)\n",
        "\n",
        "V N,9 = N(N-1)(N-2)....(N-9+1) =  N(N-1)(N-2)(N-3)(N-4)(N-5)(N-6)(N-7)(N-8)\n",
        "\n",
        "Con respecto a las **restricciones**, considero que según el enunciado del problema la única variable a tener en cuenta en la resolución  ha de ser el peso del animal (ha de influir lo menos posible en los resultados de cada uno de los tratamientos)\n",
        "\n",
        "De esta forma, como en la población N hay una mezcla de machos y hembras, sería la restricción principal a tener en cuenta para calcular el número de soluciones. Por ello considero que una solución sería dividir el conjunto inicial N en machos y hembras, teniendo de esta manera dos espacios de datos sobre los que habría que calcular el número de soluciones de la misma manera que anteriormente:\n",
        "\n",
        "* Si el número de machos (m) es igual a N menos el número de hembras (h):\n",
        "\n",
        "V m,9 = m(m-1)(m-2)....(m-9+1) =  m(m-1)(m-2)(m-3)(m-4)(m-5)(m-6)(m-7)(m-8) Sería el número de soluciones para el grupo de machos\n",
        "\n",
        "* Si el número de hembras (h) es igual a N menos el número de machos (m):\n",
        "\n",
        "V h,9 = h(h-1)(h-2)....(h-9+1) =  h(h-1)(h-2)(h-3)(h-4)(h-5)(h-6)(h-7)(h-8) Sería el número de soluciones para el grupo de hembras\n",
        "\n",
        "\n"
      ]
    },
    {
      "metadata": {
        "id": "255BPRRe4w9d",
        "colab_type": "code",
        "colab": {}
      },
      "cell_type": "code",
      "source": [
        ""
      ],
      "execution_count": 0,
      "outputs": []
    },
    {
      "metadata": {
        "id": "dzynfVJahHoY",
        "colab_type": "text"
      },
      "cell_type": "markdown",
      "source": [
        "Modelo para el espacio de soluciones<br>\n",
        "(*) ¿Cual es la estructura de datos que mejor se adapta al problema? Argumentalo.(Es posible que hayas elegido una al principio y veas la necesidad de cambiar, arguentalo)\n"
      ]
    },
    {
      "metadata": {
        "id": "xFIJrOwKi2Ti",
        "colab_type": "text"
      },
      "cell_type": "markdown",
      "source": [
        "Respuesta:\n",
        "\n",
        "Para modelar el problema tengo que tener en cuenta las siguientes variables:\n",
        "\n",
        "* El peso del grupo de terneros machos (M) y del grupo de terneros hembras (H)\n",
        "\n",
        "* El número de tratamientos: van a ser tres tratamientos: A, B y C. Los guardo en un diccionario para facilitar acceso a claves y valores.\n",
        "\n",
        "* El número de grupos dentro de cada tratamiento: 0, 1 y 2\n",
        "\n",
        "Dichas variables se pueden modelar de la siguiente manera (uso un ejemplo de tres machos y tres hembras para simplificar)"
      ]
    },
    {
      "metadata": {
        "id": "38c-7-ejhJmA",
        "colab_type": "code",
        "outputId": "4a0b0be2-b887-4845-9356-1edd39747fee",
        "colab": {
          "base_uri": "https://localhost:8080/",
          "height": 89
        }
      },
      "cell_type": "code",
      "source": [
        "MACHOS=[29.9, 31.2, 31.6]\n",
        "\n",
        "HEMBRAS=[26.8, 32.4, 31.4]\n",
        "\n",
        "TRATAMIENTO = {\"A\":0,\"B\":1,\"C\":2}\n",
        "\n",
        "GRUPO = [0,1,2]\n",
        "\n",
        "print(MACHOS)\n",
        "print(HEMBRAS)\n",
        "print(TRATAMIENTO)\n",
        "print(GRUPO)\n",
        " \n",
        "  "
      ],
      "execution_count": 6,
      "outputs": [
        {
          "output_type": "stream",
          "text": [
            "[29.9, 31.2, 31.6]\n",
            "[26.8, 32.4, 31.4]\n",
            "{'A': 0, 'B': 1, 'C': 2}\n",
            "[0, 1, 2]\n"
          ],
          "name": "stdout"
        }
      ]
    },
    {
      "metadata": {
        "id": "7Z9U2W7bi-XS",
        "colab_type": "text"
      },
      "cell_type": "markdown",
      "source": [
        "Según el modelo para el espacio de soluciones<br>\n",
        "(*)¿Cual es la función objetivo?\n",
        "\n",
        "(*)¿Es un problema de maximización o minimización?"
      ]
    },
    {
      "metadata": {
        "id": "hBalWLM7j1_d",
        "colab_type": "text"
      },
      "cell_type": "markdown",
      "source": [
        "Respuesta:<br>\n",
        "\n",
        "De acuerdo al enunciado del problema \"debemos seleccionar 3 grupos de terneros que sean lo mas homogéneos posible en peso para que en los resultados del tratamiento influya lo menos posible el peso del animal\". Lo que entiendo es que los tratamientos son independientes entre sí: no hay que tener en cuenta la distancia entre cada uno de los tratamientos.\n",
        "\n",
        "Por tanto, para cada tratamiento hay que conseguir 3 grupos que sean lo más homogéneos posible entre sí en función del peso.\n",
        "\n",
        "Aunque considero inicialmente que los tratamientos son independientes entre sí, la manera más óptima que he encontrado para resolver el problema es la siguiente: \n",
        "\n",
        "* Asignar para cada uno de los dos datasets (MACHOS o HEMBRAS) la pertenencia a un TRATAMIENTO de la siguiente manera: de la lista con pesos para todos los machos, asignar al grupo A al ternero con peso más cercano a la media, asignar al B el siguiente punto más cercano a la media y luego con el C. Repetir mismo proceso para el resto de puntos. \n",
        "\n",
        "* Una vez tenga asignados todos los machos a cada uno de los tres TRATAMIENTOs repetir el proceso para dividir cada TRATAMIENTO en tres grupos. Repetir misma metodología para el dataset de HEMBRAS.\n",
        "\n",
        "Adjunto gráfico en una celda posterior para aclarar el proceso que he pensado para asignación de grupos.\n",
        "\n",
        "De esta manera, la **función objetivo** consistiría en minimizar las distancias en peso para cada uno de los GRUPOS.\n",
        "\n",
        "Al ser un problema de agrupamiento en base a reducción de una variable se trata de un problema de  **minimización** ."
      ]
    },
    {
      "metadata": {
        "id": "YMMbUjrp0yGh",
        "colab_type": "code",
        "colab": {}
      },
      "cell_type": "code",
      "source": [
        "# La función a minimizar sería la distancia de cada uno de los puntos a la media. Habría que repetir el mismo cállculo para el set de datos de las HEMBRAS\n",
        "def distancia(MACHOS, MEDIA):\n",
        "  MEDIA = 37\n",
        "  MACHOS = [pesos machos]\n",
        "  for i in range(len(MACHOS)):\n",
        "    return abs(MEDIA-MACHOS[i])"
      ],
      "execution_count": 0,
      "outputs": []
    },
    {
      "metadata": {
        "id": "mUVuSmVeX-IG",
        "colab_type": "code",
        "colab": {}
      },
      "cell_type": "code",
      "source": [
        "from google.colab import files\n",
        "from IPython.display import Image"
      ],
      "execution_count": 0,
      "outputs": []
    },
    {
      "metadata": {
        "id": "Xv6I7F0rYbQA",
        "colab_type": "code",
        "colab": {
          "resources": {
            "http://localhost:8080/nbextensions/google.colab/files.js": {
              "data": "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",
              "ok": true,
              "headers": [
                [
                  "content-type",
                  "application/javascript"
                ]
              ],
              "status": 200,
              "status_text": ""
            }
          },
          "base_uri": "https://localhost:8080/",
          "height": 75
        },
        "outputId": "15b831eb-e321-45cd-8419-ae4eace126ff"
      },
      "cell_type": "code",
      "source": [
        "uploaded = files.upload()"
      ],
      "execution_count": 12,
      "outputs": [
        {
          "output_type": "display_data",
          "data": {
            "text/html": [
              "\n",
              "     <input type=\"file\" id=\"files-6b316af4-f6e9-455e-ab03-10e5ba68ecb1\" name=\"files[]\" multiple disabled />\n",
              "     <output id=\"result-6b316af4-f6e9-455e-ab03-10e5ba68ecb1\">\n",
              "      Upload widget is only available when the cell has been executed in the\n",
              "      current browser session. Please rerun this cell to enable.\n",
              "      </output>\n",
              "      <script src=\"/nbextensions/google.colab/files.js\"></script> "
            ],
            "text/plain": [
              "<IPython.core.display.HTML object>"
            ]
          },
          "metadata": {
            "tags": []
          }
        },
        {
          "output_type": "stream",
          "text": [
            "Saving Seminario.png to Seminario.png\n"
          ],
          "name": "stdout"
        }
      ]
    },
    {
      "metadata": {
        "id": "L-cbOwBcZ7W9",
        "colab_type": "code",
        "colab": {
          "base_uri": "https://localhost:8080/",
          "height": 682
        },
        "outputId": "ba3854e9-092a-4376-af8c-2c1be939f263"
      },
      "cell_type": "code",
      "source": [
        "Image(\"Seminario.png\")"
      ],
      "execution_count": 13,
      "outputs": [
        {
          "output_type": "execute_result",
          "data": {
            "image/png": "[encoded data removed]",
            "text/plain": [
              "<IPython.core.display.Image object>"
            ]
          },
          "metadata": {
            "tags": []
          },
          "execution_count": 13
        }
      ]
    },
    {
      "metadata": {
        "id": "rlnTYgY1j6I2",
        "colab_type": "text"
      },
      "cell_type": "markdown",
      "source": [
        "Diseña un algoritmo para resolver el problema por fuerza bruta"
      ]
    },
    {
      "metadata": {
        "id": "ZFsRfzJGSr1m",
        "colab_type": "text"
      },
      "cell_type": "markdown",
      "source": [
        "El algoritmo por fuerza bruta que se ocurre implementar para este problema consiste básicamente en lo que he tratado de explicar en el punto anterior:\n",
        "  \n",
        "1- Asignar primero cada uno de los terneros a cada uno de los tres tratamientos en base a distancia a la media.\n",
        "\n",
        "2- Si queremos además que el tamano de cada uno de los tres tratamientos sea lo mas homogéneo posible, vamos asignando MACHOS o HEMBRAS a cada uno de los tres TRATAMIENTOs hasta que el número total sea sea divisible entre 3 (por ejemplo, si hay 28 machos en total, tendríamos 3 TRATAMIENTOs (cada uno compuesto por 9 terneros) con 3 GRUPOs cada uno de tres terneros, quedando un ternero fuera del análisis). Al no decir nada el enunciado con respecto a tener que usar TODOS los animales, considero que esta sería una buena aproximación para tener grupos balanceados. \n",
        "\n",
        "3- Una vez formados los tres TRATAMIENTOs, repetir el proceso de asignación del apartado anterior en base a distancia a la media dentro de cada GRUPO para ir asignando terneros a cada uno de los tres grupos.\n",
        "\n",
        "4- Cada uno de los grupos no debería estar separado de otro por una distancia superior a la desviación estándar dada por el problema (2 en este caso)"
      ]
    },
    {
      "metadata": {
        "id": "tgrnsC2nkFa8",
        "colab_type": "text"
      },
      "cell_type": "markdown",
      "source": [
        "Calcula la complejidad del algoritmo por fuerza bruta"
      ]
    },
    {
      "metadata": {
        "id": "9eUd3xwckP68",
        "colab_type": "text"
      },
      "cell_type": "markdown",
      "source": [
        "Respuesta\n",
        "\n",
        "Mediante la fuerza bruta estamos examinando todas las posibles soluciones (distancias en media entre los terneros) y nos quedamos en cada caso con la mejor solución.\n",
        "\n",
        "En este caso es un procedimiento muy costoso (especialmente si el número de terneros es muy elevado). Al estar calculando la distancia entre cada uno de los terneros, la complejidad va a ser similar al problema ya resuelto en la asignatura de la distancia entre dos puntos (teniendo que repetirlo 2 veces, para la asignación de TRATAMIENTOs y de GRUPOs). Y además hacer lo mismo en función del sexo.\n",
        "\n",
        "La complejidad va a ser exponencial, de al menos O(n^2), probablemente incluso factorial."
      ]
    },
    {
      "metadata": {
        "id": "txbrmLmskReM",
        "colab_type": "text"
      },
      "cell_type": "markdown",
      "source": [
        "(*)Diseña un algoritmo que mejore la complejidad del algortimo por fuerza bruta. Argumenta porque crees que mejora el algoritmo por fuerza bruta"
      ]
    },
    {
      "metadata": {
        "id": "hLrVwt5QkZPD",
        "colab_type": "text"
      },
      "cell_type": "markdown",
      "source": [
        "Respuesta\n",
        "\n",
        "Al tener que realizar una búsqueda tan exhaustiva por fuerza bruta, creo que las dos siguientes aproximaciones podrían ser a priori buenas para resolver este poblema:\n",
        "\n",
        "1 - **Algoritmo Voraz**: Si tenemos un grupo de N terneros con una media y desviación estándar {M, SD} y lo queremos dividir en 9 GRUPOs, podemos elegir el subset N/9 con una media y desviación estándar {m,sd} más cercana a la de la población N y asignar este subset al grupo A. Repetir procedimiento y asignar al grupo B y así sucesivamente hasta terminar con la lista de terneros a asignar. \n",
        "\n",
        "2-  **Algoritmos de Búsqueda**: Se trata de un problema que se puede modelar con una estructura de datos tipo árbol, con lo que puedo utilizar la técnica de ramificación y poda.\n",
        "Podemos ir podando en función de las cotas inferiores y superiores en cada nodo. \n",
        "\n",
        "Como no hay que explorar todas las soluciones, va a resultar más eficiente que fuerza bruta (y más que el resto de algoritmos de búsqueda en árboles)"
      ]
    },
    {
      "metadata": {
        "id": "eGDB4K6uk1iN",
        "colab_type": "text"
      },
      "cell_type": "markdown",
      "source": [
        "(*)Calcula la complejidad del algoritmo "
      ]
    },
    {
      "metadata": {
        "id": "NhpTh_BPk1ms",
        "colab_type": "text"
      },
      "cell_type": "markdown",
      "source": [
        "Respuesta\n",
        "\n",
        "Al resolver el problema mediante el árbol binario de búsqueda podemos mejorar la complejidad hasta O(nlogn) o cuasi-lineal"
      ]
    },
    {
      "metadata": {
        "id": "3M6QjTsSkmYe",
        "colab_type": "text"
      },
      "cell_type": "markdown",
      "source": [
        "Según el problema (y tenga sentido), diseña un juego de datos de entrada aleatorios"
      ]
    },
    {
      "metadata": {
        "id": "Jc3_OlyNkvjZ",
        "colab_type": "text"
      },
      "cell_type": "markdown",
      "source": [
        "Respuesta\n",
        "\n",
        "Si queremos un set de datos con exactamente media de 37 y desviación estándar 2.1 lo podemos conseguir mediante el uso del código mostrado en la siguiente celda (código adaptado de la web, link en referencias). Habría que aplicarlo dos veces, una para terneros MACHOS y otra vez para terneros HEMBRAS."
      ]
    },
    {
      "metadata": {
        "id": "sJ-N2etjkyWc",
        "colab_type": "code",
        "colab": {
          "base_uri": "https://localhost:8080/",
          "height": 89
        },
        "outputId": "e97da46a-dc75-4f4d-cfeb-c4c592fff923"
      },
      "cell_type": "code",
      "source": [
        "import numpy as np\n",
        "\n",
        "num_samples = 300\n",
        "desired_mean = 37.0\n",
        "desired_std_dev = 2.1\n",
        "\n",
        "samples = np.random.normal(loc=0.0, scale=desired_std_dev, size=num_samples)\n",
        "\n",
        "actual_mean = np.mean(samples)\n",
        "actual_std = np.std(samples)\n",
        "print(\"Initial samples stats   : mean = {:.4f} stdv = {:.4f}\".format(actual_mean, actual_std))\n",
        "\n",
        "zero_mean_samples = samples - (actual_mean)\n",
        "\n",
        "zero_mean_mean = np.mean(zero_mean_samples)\n",
        "zero_mean_std = np.std(zero_mean_samples)\n",
        "print(\"True zero samples stats : mean = {:.4f} stdv = {:.4f}\".format(zero_mean_mean, zero_mean_std))\n",
        "\n",
        "scaled_samples = zero_mean_samples * (desired_std_dev/zero_mean_std)\n",
        "scaled_mean = np.mean(scaled_samples)\n",
        "scaled_std = np.std(scaled_samples)\n",
        "print(\"Scaled samples stats    : mean = {:.4f} stdv = {:.4f}\".format(scaled_mean, scaled_std))\n",
        "\n",
        "final_samples = scaled_samples + desired_mean\n",
        "final_mean = np.mean(final_samples)\n",
        "final_std = np.std(final_samples)\n",
        "print(\"Final samples stats     : mean = {:.4f} stdv = {:.4f}\".format(final_mean, final_std))"
      ],
      "execution_count": 9,
      "outputs": [
        {
          "output_type": "stream",
          "text": [
            "Initial samples stats   : mean = 0.0527 stdv = 2.0311\n",
            "True zero samples stats : mean = -0.0000 stdv = 2.0311\n",
            "Scaled samples stats    : mean = -0.0000 stdv = 2.1000\n",
            "Final samples stats     : mean = 37.0000 stdv = 2.1000\n"
          ],
          "name": "stdout"
        }
      ]
    },
    {
      "metadata": {
        "id": "zy5ZROmjlGo1",
        "colab_type": "text"
      },
      "cell_type": "markdown",
      "source": [
        "Aplica el algoritmo al juego de datos generado"
      ]
    },
    {
      "metadata": {
        "id": "_Cmj-PVylMsa",
        "colab_type": "text"
      },
      "cell_type": "markdown",
      "source": [
        "Respuesta\n",
        "\n",
        "La verdad es que estoy aprendiendo programación con python en este Máster, así que a lo que llego es a buscar código y tratar de entenderlo. El siguiente código obtenido de Internet (ver referencia en referencias) trata de agrupar valores en base a distancia entre GRUPOs. Habría que agrupar posteriormente los grupos obtenidos para generar los TRATAMIENTOs (mediante el uso de `.append()`)\n",
        "\n",
        "Otra posibilidad que he encontrado para resolver el problema de particiones podría ser la optimización de Jenks de particiones (ver referencia más adelante)"
      ]
    },
    {
      "metadata": {
        "id": "Jkx8GeiYlUz1",
        "colab_type": "code",
        "colab": {}
      },
      "cell_type": "code",
      "source": [
        "from math import sqrt\n",
        "\n",
        "def stat(lst):\n",
        "    \"\"\"Calculate mean and std deviation from the input list.\"\"\"\n",
        "    n = float(len(lst))\n",
        "    mean = sum(lst) / n\n",
        "    stdev = sqrt((sum(x*x for x in lst) / n) - (mean * mean)) \n",
        "    return mean, stdev\n",
        "\n",
        "def parse(lst, n):\n",
        "    cluster = []\n",
        "    for i in lst:\n",
        "        if len(cluster) <= 1:    # the first two values are going directly in\n",
        "            cluster.append(i)\n",
        "            continue\n",
        "\n",
        "        mean,stdev = stat(cluster)\n",
        "        if abs(mean - i) > n * stdev:    # check the \"distance\"\n",
        "            yield cluster\n",
        "            cluster[:] = []    # reset cluster to the empty list\n",
        "\n",
        "        cluster.append(i)\n",
        "    yield cluster           # yield the last cluster"
      ],
      "execution_count": 0,
      "outputs": []
    },
    {
      "metadata": {
        "id": "VrJwiNsd-_49",
        "colab_type": "code",
        "colab": {
          "base_uri": "https://localhost:8080/",
          "height": 595
        },
        "outputId": "49ea5100-80eb-4f9c-fb6a-ef45bf9db053"
      },
      "cell_type": "code",
      "source": [
        "for cluster in parse(final_samples, 2):\n",
        "  print(cluster)"
      ],
      "execution_count": 6,
      "outputs": [
        {
          "output_type": "stream",
          "text": [
            "[31.07170716162526, 31.287674782770175]\n",
            "[25.83391531733702, 30.469326396340644, 24.747617369963145, 28.292777482493356, 28.52913492413346, 27.343878375659916, 29.84112802806389, 30.527464678831297, 28.30755825581927, 28.005989896225852, 29.2824060763376, 30.16308331042458]\n",
            "[32.92506456305793, 30.475771996742772, 30.842039345402064, 32.67293252464282]\n",
            "[28.738649513371012, 28.19861309486684]\n",
            "[25.356536236079837, 28.435542794365606, 26.940777015031344, 29.416191693112694, 28.743858564644132, 30.185598848110583, 30.06854483197117]\n",
            "[34.15222031306979, 27.70691620217082, 30.246764939457695, 31.274352793939602]\n",
            "[24.958914495717686, 32.34151875976642, 29.491222595448967, 31.253263299314433, 30.865821836601626, 31.849841760357535, 31.79996398981821, 29.3135526946423, 31.65594524479318, 27.542164174229182, 31.5841390467559, 26.425172999473087, 29.95048827150749, 28.604580926294112, 27.395721791218826, 30.50494700389875, 26.429502917398125]\n",
            "[33.98786230197439, 32.41648374978864, 32.51517175212745, 32.493717745467784]\n",
            "[29.078093410534805, 33.91161914545595, 32.16359016048867]\n",
            "[26.986760978447474, 28.428018980313396]\n",
            "[31.970923508486145, 29.715105394868097, 30.27514216499624, 31.02152747414374, 32.39900545875687, 29.734793827438043]\n",
            "[28.295509876152682, 27.957909880434297]\n",
            "[28.975155042540962, 30.234673506420606]\n",
            "[28.212525412530468, 32.019229959343015, 27.86925375663869, 26.198869584828497, 27.21234340270746, 28.187209148040655, 31.401871183540877, 29.832612975421544, 28.248464675932006, 30.481693152844688, 27.993545643885092, 29.900988069709072]\n",
            "[32.462030084876965, 28.91288212774844, 28.646293840167516, 31.137153942929313]\n",
            "[34.295960065821426, 31.063445237793093, 32.97863619237294, 30.697866223958734]\n",
            "[27.727274532712606, 31.77912978590683, 29.50340093134999, 28.804368075747938, 31.75173619862538, 27.212139687694883, 32.56276671567195, 28.034427688872054, 32.00625308075145, 29.282653895116837, 28.404224448874142, 30.318408615117114, 28.909074653350828, 32.026599914120176, 31.839312043321044, 28.67348428779652, 29.980196615419107, 29.98609775525123, 28.42381849202912, 28.561975279303798, 27.285264560173026, 31.290144190388336, 32.13311619442808]\n",
            "[25.93316894765892, 30.43114981926921, 30.342112544100388, 31.527683686839563, 30.514704513769626, 30.71677266466155]\n",
            "[25.82418688203108, 31.126049738189636, 33.03412191360141, 28.61493436726513, 31.227679036918257, 28.660958884962817, 31.238474134667758, 34.12842487221622, 32.367232802456655, 30.93924851559645, 26.887837046968464, 31.88488013552329, 28.165390972371945, 33.174215388350135, 28.380667884242474, 27.7899047855529, 30.932089198546926, 27.97070068158345, 30.44390650860351, 29.376520227680857, 28.933817820894134, 28.686753553728664, 28.646739128153065, 26.746275823949937, 30.604290378245956, 31.01564459391176, 29.679847493620176, 29.54132470737797, 30.193639006865286, 29.800228103192374, 33.62377210597672, 29.69177736064624, 28.221087361805598, 31.970443498945695, 32.63429639218906, 32.888100015354766, 27.77965208987061, 29.397451146806286, 32.93729327420072, 29.955460425216394, 28.712575625258747, 32.990220289031924, 31.73222898611137, 31.96164018090342, 26.339477017366775, 26.185269420219242]\n",
            "[35.0211774102105, 28.613717906865293, 30.13198133717563, 28.9195751533525, 33.03552995655085, 29.966373962177254, 34.15484659117651, 28.775237088489806, 33.74908335890631, 29.493028758366833, 30.723388051168204]\n",
            "[26.04376642873271, 28.34542870609446]\n",
            "[33.53510491227142, 28.610050738869386, 30.274658512097655, 31.210222537279627]\n",
            "[26.47664501834932, 31.44419555654788, 32.60781197715262, 28.77955621678587, 33.26408851032237, 29.395170283171858, 32.032931129164965, 34.147247173706056, 27.113703676713225, 29.209900490297976, 28.249690344570876, 28.51772217041288, 28.88790250069009, 31.35072256185118, 28.928541465042734, 31.36664501533363, 31.960900712873617, 30.565241766379373, 28.51051919770594, 31.223052938819357, 31.231568826737252, 26.73462458526483, 30.51077039720952, 30.45866136540053, 27.769730249383855, 31.801051677123265, 28.947542869790876, 30.500646450978405]\n",
            "[24.78382461924374, 28.21466726868156, 26.78693579531855]\n",
            "[29.939768851833787, 28.125222695406897, 30.300790803003128, 30.764196536553968, 28.422572482960817, 29.156146575504636, 29.9361499288467, 29.04563676863956, 29.17885413702392]\n",
            "[31.32896882984857, 28.796811471517007, 31.44549518760063, 29.421994383475667, 29.186356265915258, 31.41480483810603, 29.712557364344345]\n",
            "[33.47704591676703, 28.8316364533251, 31.384571684863488, 32.106269215455704, 28.278933137328153, 27.994896757715054, 32.37051138812597, 32.403560490804466, 27.745258491446208, 30.49980231845889, 30.448698176232387, 32.76826689331046, 28.762000775457004, 31.486215597725103, 32.68142107522118, 29.879084492398917, 28.7907328896146, 31.507239457987517, 30.466090954538874]\n",
            "[34.19262620933529, 32.70509934430739]\n",
            "[30.23191722256701, 25.618789848266033]\n",
            "[33.99312131780577, 29.399360374015984, 30.26146503659642, 28.060327492462257, 28.620880018531782, 28.37746075788188, 29.3188812881684, 30.835066154116898, 29.991789410072407, 31.200434386648478, 28.228202167619678, 27.51339294926924, 32.21782359472576, 30.971456739778237, 29.828963447099245, 31.955850231740293, 31.201413746318888, 28.384467334274962, 30.471838504503044, 31.649572048140488, 31.541174594336965, 30.394898950144295, 29.931057876830256, 31.247578480090468, 29.806480342040448]\n",
            "[33.71704696283665, 28.36698061923438, 27.714306531250227, 28.428759986815415, 28.78942894104377, 28.693987819540084, 30.260212458428562, 31.181236958680213, 30.721095977794235, 32.29622560577633, 30.934549542125787, 29.539654275371664, 29.29350900214096, 28.637495548145292, 30.87113736929725, 31.193254341994955, 30.458334749979198, 29.66758007341542, 31.829703016929592, 29.276694623893043, 30.34695556236821, 27.394446920903796, 28.170898239458303, 31.510270374285692, 31.371683911910093, 29.38628544180781]\n"
          ],
          "name": "stdout"
        }
      ]
    },
    {
      "metadata": {
        "colab_type": "text",
        "id": "eTFWUJQrtGcv"
      },
      "cell_type": "markdown",
      "source": [
        "Enumera las referencias que has utilizado(si ha sido necesario) para llevar a cabo el trabajo\n",
        "\n"
      ]
    },
    {
      "metadata": {
        "id": "YKQ_mRBttWsP",
        "colab_type": "text"
      },
      "cell_type": "markdown",
      "source": [
        "Respuesta\n",
        "\n",
        "* Repaso de técnicas de sampleo: https://towardsdatascience.com/sampling-techniques-a4e34111d808\n",
        "\n",
        "* Para la generación del set de datos: https://stackoverflow.com/questions/51515423/generate-sample-data-with-an-exact-mean-and-standard-deviation\n",
        "\n",
        "* Una posible solución de partición en 1D (Jenks natural breaks optimization): https://en.wikipedia.org/wiki/Jenks_natural_breaks_optimization\n",
        "\n",
        "* Código usado para agrupación de valores: https://stackoverflow.com/questions/8940049/how-would-you-group-cluster-these-three-areas-in-arrays-in-python/8941175#8941175"
      ]
    },
    {
      "metadata": {
        "id": "kAkDPUyRtYyH",
        "colab_type": "text"
      },
      "cell_type": "markdown",
      "source": [
        "Describe brevemente las lineas de como crees que es posible avanzar en el estudio del problema. Ten en cuenta incluso posibles variaciones del problema y/o variaciones al alza del tamaño"
      ]
    },
    {
      "metadata": {
        "id": "IE0uZmo-tZu-",
        "colab_type": "text"
      },
      "cell_type": "markdown",
      "source": [
        "Respuesta\n",
        "\n",
        "Con el objetivo de mejorar o realizar aproximaciones distintas al problema se me ocurren los siguientes puntos:\n",
        "\n",
        "1- Tener en cuenta además del peso del ternero, el sexo. Considero que el sexo del animal va a ser un factor determinante en cualquier tipo de tratamiento. Por ello, podemos realizar un análisis multivariable (en función del peso y el sexo).\n",
        "\n",
        "Al tener en cuenta los dos factores podríamos utilizar técnicas de **clustering** (como un análisis de componentes principales) que nos permitieran la clasificación de distintos grupos visualmente de manera sencilla.\n",
        "\n",
        "2- Si el número de terneros es muy elevado podemos utilizar técnicas **metaheurísticas** de búsqueda local, generando de esta manera soluciones en función de vecindad entre terneros basadas en trayectorias. Otra posibilidad sería el uso de la técnica de colonias de hormigas, usando aprendizaje reforzado para encontrar la mejor solución al problema (construcción de los grupos mas homogéneos)"
      ]
    }
  ]
}